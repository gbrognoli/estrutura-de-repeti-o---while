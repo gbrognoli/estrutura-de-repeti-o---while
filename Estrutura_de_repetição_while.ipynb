{
  "nbformat": 4,
  "nbformat_minor": 0,
  "metadata": {
    "colab": {
      "name": "Estrutura de repetição - while.ipynb",
      "provenance": [],
      "authorship_tag": "ABX9TyPIQI1/xA5u1XOZcfdypN8b",
      "include_colab_link": true
    },
    "kernelspec": {
      "name": "python3",
      "display_name": "Python 3"
    },
    "language_info": {
      "name": "python"
    }
  },
  "cells": [
    {
      "cell_type": "markdown",
      "metadata": {
        "id": "view-in-github",
        "colab_type": "text"
      },
      "source": [
        "<a href=\"https://colab.research.google.com/github/gbrognoli/estrutura-de-repeti-o---while/blob/main/Estrutura_de_repeti%C3%A7%C3%A3o_while.ipynb\" target=\"_parent\"><img src=\"https://colab.research.google.com/assets/colab-badge.svg\" alt=\"Open In Colab\"/></a>"
      ]
    },
    {
      "cell_type": "markdown",
      "metadata": {
        "id": "ihx7l97ipEX1"
      },
      "source": [
        "Estruturas de repetição - while"
      ]
    },
    {
      "cell_type": "code",
      "metadata": {
        "colab": {
          "base_uri": "https://localhost:8080/"
        },
        "id": "NVwz1J3Ao6GD",
        "outputId": "b9c7d7ce-5c10-4b84-b380-5db103809e1e"
      },
      "source": [
        "numero = 1 \n",
        "while numero < 6:\n",
        "  print(numero)\n",
        "  numero += 1\n",
        "print('---')"
      ],
      "execution_count": 7,
      "outputs": [
        {
          "output_type": "stream",
          "text": [
            "1\n",
            "2\n",
            "3\n",
            "4\n",
            "5\n",
            "---\n"
          ],
          "name": "stdout"
        }
      ]
    },
    {
      "cell_type": "code",
      "metadata": {
        "colab": {
          "base_uri": "https://localhost:8080/"
        },
        "id": "YFXtfqXhr3v1",
        "outputId": "acd49d13-51ee-4193-d310-bdf133e0d013"
      },
      "source": [
        "numero = 5 \n",
        "while numero > 0:\n",
        "  print(numero)\n",
        "  numero -= 1"
      ],
      "execution_count": 10,
      "outputs": [
        {
          "output_type": "stream",
          "text": [
            "5\n",
            "4\n",
            "3\n",
            "2\n",
            "1\n"
          ],
          "name": "stdout"
        }
      ]
    },
    {
      "cell_type": "code",
      "metadata": {
        "colab": {
          "base_uri": "https://localhost:8080/"
        },
        "id": "azEGdzTYqrxr",
        "outputId": "9d5d2c04-20d8-4c72-fd02-215ab1479b29"
      },
      "source": [
        "1 + 2 + 3 + + 4 + 5 "
      ],
      "execution_count": 1,
      "outputs": [
        {
          "output_type": "execute_result",
          "data": {
            "text/plain": [
              "15"
            ]
          },
          "metadata": {
            "tags": []
          },
          "execution_count": 1
        }
      ]
    },
    {
      "cell_type": "code",
      "metadata": {
        "colab": {
          "base_uri": "https://localhost:8080/"
        },
        "id": "CQ7jIT_dq37U",
        "outputId": "ef0a755e-72bd-44a8-9313-29cae198bf4f"
      },
      "source": [
        "soma = 0\n",
        "numero = 1 \n",
        "while numero < 6: \n",
        "  soma += numero\n",
        "  numero += 1\n",
        "print(soma)"
      ],
      "execution_count": 4,
      "outputs": [
        {
          "output_type": "stream",
          "text": [
            "15\n"
          ],
          "name": "stdout"
        }
      ]
    },
    {
      "cell_type": "code",
      "metadata": {
        "colab": {
          "base_uri": "https://localhost:8080/"
        },
        "id": "gfiyf27jrNm9",
        "outputId": "24709e90-8b42-4a15-ec88-3df38b730c40"
      },
      "source": [
        "numero = 12 \n",
        "while numero < 1 or numero > 10:\n",
        "   numero = int(input('Digite um número de 1 a 10:'))"
      ],
      "execution_count": 5,
      "outputs": [
        {
          "output_type": "stream",
          "text": [
            "Digite um número de 1 a 10: 5\n"
          ],
          "name": "stdout"
        }
      ]
    }
  ]
}